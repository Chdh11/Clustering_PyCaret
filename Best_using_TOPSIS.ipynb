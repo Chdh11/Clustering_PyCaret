{
 "cells": [
  {
   "cell_type": "markdown",
   "id": "6b60f040",
   "metadata": {},
   "source": [
    "# Best Clustering Technique\n",
    "We take Aggregate sum for each parameter of each clustering technique and applied TOPSIS to find the best technique."
   ]
  },
  {
   "cell_type": "code",
   "execution_count": 1,
   "id": "db26df06",
   "metadata": {},
   "outputs": [],
   "source": [
    "import pandas as pd"
   ]
  },
  {
   "cell_type": "code",
   "execution_count": 10,
   "id": "e3aa82f0",
   "metadata": {},
   "outputs": [
    {
     "data": {
      "text/html": [
       "<div>\n",
       "<style scoped>\n",
       "    .dataframe tbody tr th:only-of-type {\n",
       "        vertical-align: middle;\n",
       "    }\n",
       "\n",
       "    .dataframe tbody tr th {\n",
       "        vertical-align: top;\n",
       "    }\n",
       "\n",
       "    .dataframe thead th {\n",
       "        text-align: right;\n",
       "    }\n",
       "</style>\n",
       "<table border=\"1\" class=\"dataframe\">\n",
       "  <thead>\n",
       "    <tr style=\"text-align: right;\">\n",
       "      <th></th>\n",
       "      <th>Clustering Techniques</th>\n",
       "      <th>Silhouette</th>\n",
       "      <th>Calinski-Harabasz</th>\n",
       "      <th>Davies-Bouldin</th>\n",
       "    </tr>\n",
       "  </thead>\n",
       "  <tbody>\n",
       "    <tr>\n",
       "      <th>0</th>\n",
       "      <td>Kmeans</td>\n",
       "      <td>8.5537</td>\n",
       "      <td>1.411312e+06</td>\n",
       "      <td>35.1797</td>\n",
       "    </tr>\n",
       "    <tr>\n",
       "      <th>1</th>\n",
       "      <td>Agglomerative</td>\n",
       "      <td>8.2000</td>\n",
       "      <td>1.262895e+06</td>\n",
       "      <td>38.5362</td>\n",
       "    </tr>\n",
       "    <tr>\n",
       "      <th>2</th>\n",
       "      <td>Density-Based Spatial</td>\n",
       "      <td>-9.7184</td>\n",
       "      <td>2.603716e+02</td>\n",
       "      <td>28.2396</td>\n",
       "    </tr>\n",
       "  </tbody>\n",
       "</table>\n",
       "</div>"
      ],
      "text/plain": [
       "   Clustering Techniques  Silhouette  Calinski-Harabasz  Davies-Bouldin\n",
       "0                 Kmeans      8.5537       1.411312e+06         35.1797\n",
       "1          Agglomerative      8.2000       1.262895e+06         38.5362\n",
       "2  Density-Based Spatial     -9.7184       2.603716e+02         28.2396"
      ]
     },
     "execution_count": 10,
     "metadata": {},
     "output_type": "execute_result"
    }
   ],
   "source": [
    "df=pd.read_csv(\"best_clustering_technique.csv\")\n",
    "df"
   ]
  },
  {
   "cell_type": "code",
   "execution_count": 11,
   "id": "a6a16d51",
   "metadata": {},
   "outputs": [],
   "source": [
    "def topsis(data,weights,impacts):\n",
    "    #Step 1\n",
    "    #removing first column that's usually the name of models/criteria\n",
    "    df=data.drop(data.columns[0],axis=1)\n",
    "    \n",
    "    #Step2\n",
    "    #check for any categorical columns\n",
    "    categorical_columns = df.select_dtypes(include=['object']).columns\n",
    "    \n",
    "    # if yes, Convert categorical columns to numeric using cat.codes\n",
    "    df[categorical_columns] = df[categorical_columns].apply(lambda col: col.astype('category').cat.codes)\n",
    "    \n",
    "    #Step 3\n",
    "    #Calculate root of square of sum for each column\n",
    "    rss=[]\n",
    "    for j in range(0,df.shape[1]):\n",
    "        l=[]\n",
    "        for i in range(0,df.shape[0]):\n",
    "            l.append(df.iloc[i,j]**2)\n",
    "        rss.append((sum(l))**0.5)\n",
    "    \n",
    "    #Step 4\n",
    "    #Calculate normalized performance values\n",
    "    for i in range(0,df.shape[1]):\n",
    "        for j in range(0,df.shape[0]):\n",
    "            df.iloc[j,i]=df.iloc[j,i]/rss[i]\n",
    "    \n",
    "    #Step 5\n",
    "    #Calculate weighted normalised decision matrix\n",
    "    for i in range(0,df.shape[1]):\n",
    "        for j in range(0,df.shape[0]):\n",
    "            df.iloc[j,i]=df.iloc[j,i]/weights[i]\n",
    "    \n",
    "    #Step 6\n",
    "    #Extract ideal best and ideal worst for each column according to impact\n",
    "    ideal_best=[]\n",
    "    ideal_worst=[]\n",
    "    for i in range(0,df.shape[1]):\n",
    "            if impacts[i] == '+':\n",
    "                ideal_best.append(max(df.iloc[:,i]))\n",
    "                ideal_worst.append(min(df.iloc[:,i]))\n",
    "            elif impacts[i] == '-':\n",
    "                ideal_best.append(min(df.iloc[:,i]))\n",
    "                ideal_worst.append(max(df.iloc[:,i]))\n",
    "    \n",
    "    #Step 7\n",
    "    #Calculate euclidean distance for both ideal best and ideal worst value\n",
    "    Sp=[]\n",
    "    Sn=[]\n",
    "    for i in range(0,df.shape[0]):\n",
    "        l1=[]\n",
    "        l2=[]\n",
    "        for j in range(0,df.shape[1]):\n",
    "            l1.append((df.iloc[i,j]-ideal_best[j])**2)\n",
    "            l2.append((df.iloc[i,j]-ideal_worst[j])**2)\n",
    "        Sp.append(sum(l1)**0.5)\n",
    "        Sn.append(sum(l2)**0.5)\n",
    "    \n",
    "    #Step 8\n",
    "    #Calculate performance score\n",
    "    p=[]\n",
    "    for i in range(0,len(Sp)):\n",
    "        p.append(Sn[i]/(Sn[i]+Sp[i]))\n",
    "    \n",
    "    #Step 9\n",
    "    #Create DataFrame\n",
    "    df_new=pd.DataFrame(data)\n",
    "    df_new['Performance Score']=p\n",
    "    \n",
    "    #Step 10\n",
    "    #Calculate Rank based on performance score and add it to the dataframe\n",
    "    df_new['Rank'] = df_new['Performance Score'].rank(ascending=False)\n",
    "    \n",
    "    return df_new"
   ]
  },
  {
   "cell_type": "code",
   "execution_count": 12,
   "id": "12be17d1",
   "metadata": {},
   "outputs": [],
   "source": [
    "weights=[1,1,1]\n",
    "impacts=['+','+','-']"
   ]
  },
  {
   "cell_type": "code",
   "execution_count": 15,
   "id": "c517afba",
   "metadata": {},
   "outputs": [
    {
     "data": {
      "text/html": [
       "<div>\n",
       "<style scoped>\n",
       "    .dataframe tbody tr th:only-of-type {\n",
       "        vertical-align: middle;\n",
       "    }\n",
       "\n",
       "    .dataframe tbody tr th {\n",
       "        vertical-align: top;\n",
       "    }\n",
       "\n",
       "    .dataframe thead th {\n",
       "        text-align: right;\n",
       "    }\n",
       "</style>\n",
       "<table border=\"1\" class=\"dataframe\">\n",
       "  <thead>\n",
       "    <tr style=\"text-align: right;\">\n",
       "      <th></th>\n",
       "      <th>Clustering Techniques</th>\n",
       "      <th>Silhouette</th>\n",
       "      <th>Calinski-Harabasz</th>\n",
       "      <th>Davies-Bouldin</th>\n",
       "      <th>Performance Score</th>\n",
       "      <th>Rank</th>\n",
       "    </tr>\n",
       "  </thead>\n",
       "  <tbody>\n",
       "    <tr>\n",
       "      <th>0</th>\n",
       "      <td>Kmeans</td>\n",
       "      <td>8.5537</td>\n",
       "      <td>1.411312e+06</td>\n",
       "      <td>35.1797</td>\n",
       "      <td>0.923250</td>\n",
       "      <td>1.0</td>\n",
       "    </tr>\n",
       "    <tr>\n",
       "      <th>1</th>\n",
       "      <td>Agglomerative</td>\n",
       "      <td>8.2000</td>\n",
       "      <td>1.262895e+06</td>\n",
       "      <td>38.5362</td>\n",
       "      <td>0.875265</td>\n",
       "      <td>2.0</td>\n",
       "    </tr>\n",
       "    <tr>\n",
       "      <th>2</th>\n",
       "      <td>Density-Based Spatial</td>\n",
       "      <td>-9.7184</td>\n",
       "      <td>2.603716e+02</td>\n",
       "      <td>28.2396</td>\n",
       "      <td>0.109873</td>\n",
       "      <td>3.0</td>\n",
       "    </tr>\n",
       "  </tbody>\n",
       "</table>\n",
       "</div>"
      ],
      "text/plain": [
       "   Clustering Techniques  Silhouette  Calinski-Harabasz  Davies-Bouldin  \\\n",
       "0                 Kmeans      8.5537       1.411312e+06         35.1797   \n",
       "1          Agglomerative      8.2000       1.262895e+06         38.5362   \n",
       "2  Density-Based Spatial     -9.7184       2.603716e+02         28.2396   \n",
       "\n",
       "   Performance Score  Rank  \n",
       "0           0.923250   1.0  \n",
       "1           0.875265   2.0  \n",
       "2           0.109873   3.0  "
      ]
     },
     "execution_count": 15,
     "metadata": {},
     "output_type": "execute_result"
    }
   ],
   "source": [
    "result=topsis(df,weights,impacts)\n",
    "result"
   ]
  },
  {
   "cell_type": "markdown",
   "id": "d60b9ea4",
   "metadata": {},
   "source": [
    "So ```K-means Clustering``` is the best choice."
   ]
  },
  {
   "cell_type": "code",
   "execution_count": 16,
   "id": "e93e65a5",
   "metadata": {},
   "outputs": [],
   "source": [
    "result.to_csv(\"Best_Clustering_technique_topsis_result.csv\")"
   ]
  },
  {
   "cell_type": "markdown",
   "id": "cbb44243",
   "metadata": {},
   "source": [
    "# Best Number of Clusters\n",
    "We take Average of each parameter for each cluster in every clustering technique and applied TOPSIS to determine best number of clusters."
   ]
  },
  {
   "cell_type": "code",
   "execution_count": 18,
   "id": "294397be",
   "metadata": {},
   "outputs": [
    {
     "data": {
      "text/html": [
       "<div>\n",
       "<style scoped>\n",
       "    .dataframe tbody tr th:only-of-type {\n",
       "        vertical-align: middle;\n",
       "    }\n",
       "\n",
       "    .dataframe tbody tr th {\n",
       "        vertical-align: top;\n",
       "    }\n",
       "\n",
       "    .dataframe thead th {\n",
       "        text-align: right;\n",
       "    }\n",
       "</style>\n",
       "<table border=\"1\" class=\"dataframe\">\n",
       "  <thead>\n",
       "    <tr style=\"text-align: right;\">\n",
       "      <th></th>\n",
       "      <th>Clusters</th>\n",
       "      <th>Silhouette</th>\n",
       "      <th>Calinski-Harabasz</th>\n",
       "      <th>Davies-Bouldin</th>\n",
       "    </tr>\n",
       "  </thead>\n",
       "  <tbody>\n",
       "    <tr>\n",
       "      <th>0</th>\n",
       "      <td>Three</td>\n",
       "      <td>0.703267</td>\n",
       "      <td>212447.2455</td>\n",
       "      <td>8.822600</td>\n",
       "    </tr>\n",
       "    <tr>\n",
       "      <th>1</th>\n",
       "      <td>Four</td>\n",
       "      <td>0.634500</td>\n",
       "      <td>228691.2564</td>\n",
       "      <td>8.526000</td>\n",
       "    </tr>\n",
       "    <tr>\n",
       "      <th>2</th>\n",
       "      <td>Five</td>\n",
       "      <td>0.553133</td>\n",
       "      <td>225869.7633</td>\n",
       "      <td>8.350033</td>\n",
       "    </tr>\n",
       "    <tr>\n",
       "      <th>3</th>\n",
       "      <td>Six</td>\n",
       "      <td>0.454200</td>\n",
       "      <td>224480.7834</td>\n",
       "      <td>8.286533</td>\n",
       "    </tr>\n",
       "  </tbody>\n",
       "</table>\n",
       "</div>"
      ],
      "text/plain": [
       "  Clusters  Silhouette  Calinski-Harabasz  Davies-Bouldin\n",
       "0    Three    0.703267        212447.2455        8.822600\n",
       "1     Four    0.634500        228691.2564        8.526000\n",
       "2     Five    0.553133        225869.7633        8.350033\n",
       "3      Six    0.454200        224480.7834        8.286533"
      ]
     },
     "execution_count": 18,
     "metadata": {},
     "output_type": "execute_result"
    }
   ],
   "source": [
    "df2=pd.read_csv(\"best_no_of_cluster.csv\")\n",
    "df2"
   ]
  },
  {
   "cell_type": "code",
   "execution_count": 19,
   "id": "6eab0f86",
   "metadata": {},
   "outputs": [],
   "source": [
    "weights=[1,1,1]\n",
    "impacts=['+','+','-']"
   ]
  },
  {
   "cell_type": "code",
   "execution_count": 20,
   "id": "dcb63cd0",
   "metadata": {},
   "outputs": [
    {
     "data": {
      "text/html": [
       "<div>\n",
       "<style scoped>\n",
       "    .dataframe tbody tr th:only-of-type {\n",
       "        vertical-align: middle;\n",
       "    }\n",
       "\n",
       "    .dataframe tbody tr th {\n",
       "        vertical-align: top;\n",
       "    }\n",
       "\n",
       "    .dataframe thead th {\n",
       "        text-align: right;\n",
       "    }\n",
       "</style>\n",
       "<table border=\"1\" class=\"dataframe\">\n",
       "  <thead>\n",
       "    <tr style=\"text-align: right;\">\n",
       "      <th></th>\n",
       "      <th>Clusters</th>\n",
       "      <th>Silhouette</th>\n",
       "      <th>Calinski-Harabasz</th>\n",
       "      <th>Davies-Bouldin</th>\n",
       "      <th>Performance Score</th>\n",
       "      <th>Rank</th>\n",
       "    </tr>\n",
       "  </thead>\n",
       "  <tbody>\n",
       "    <tr>\n",
       "      <th>0</th>\n",
       "      <td>Three</td>\n",
       "      <td>0.703267</td>\n",
       "      <td>212447.2455</td>\n",
       "      <td>8.822600</td>\n",
       "      <td>0.813226</td>\n",
       "      <td>1.0</td>\n",
       "    </tr>\n",
       "    <tr>\n",
       "      <th>1</th>\n",
       "      <td>Four</td>\n",
       "      <td>0.634500</td>\n",
       "      <td>228691.2564</td>\n",
       "      <td>8.526000</td>\n",
       "      <td>0.724988</td>\n",
       "      <td>2.0</td>\n",
       "    </tr>\n",
       "    <tr>\n",
       "      <th>2</th>\n",
       "      <td>Five</td>\n",
       "      <td>0.553133</td>\n",
       "      <td>225869.7633</td>\n",
       "      <td>8.350033</td>\n",
       "      <td>0.422995</td>\n",
       "      <td>3.0</td>\n",
       "    </tr>\n",
       "    <tr>\n",
       "      <th>3</th>\n",
       "      <td>Six</td>\n",
       "      <td>0.454200</td>\n",
       "      <td>224480.7834</td>\n",
       "      <td>8.286533</td>\n",
       "      <td>0.165030</td>\n",
       "      <td>4.0</td>\n",
       "    </tr>\n",
       "  </tbody>\n",
       "</table>\n",
       "</div>"
      ],
      "text/plain": [
       "  Clusters  Silhouette  Calinski-Harabasz  Davies-Bouldin  Performance Score  \\\n",
       "0    Three    0.703267        212447.2455        8.822600           0.813226   \n",
       "1     Four    0.634500        228691.2564        8.526000           0.724988   \n",
       "2     Five    0.553133        225869.7633        8.350033           0.422995   \n",
       "3      Six    0.454200        224480.7834        8.286533           0.165030   \n",
       "\n",
       "   Rank  \n",
       "0   1.0  \n",
       "1   2.0  \n",
       "2   3.0  \n",
       "3   4.0  "
      ]
     },
     "execution_count": 20,
     "metadata": {},
     "output_type": "execute_result"
    }
   ],
   "source": [
    "result2=topsis(df2,weights,impacts)\n",
    "result2"
   ]
  },
  {
   "cell_type": "markdown",
   "id": "b56a8736",
   "metadata": {},
   "source": [
    "So ```Three clusters``` are the best choice."
   ]
  },
  {
   "cell_type": "code",
   "execution_count": 21,
   "id": "21509e0a",
   "metadata": {},
   "outputs": [],
   "source": [
    "result2.to_csv(\"best_no_of_cluster_topsis_result.csv\")"
   ]
  }
 ],
 "metadata": {
  "kernelspec": {
   "display_name": "Python 3 (ipykernel)",
   "language": "python",
   "name": "python3"
  },
  "language_info": {
   "codemirror_mode": {
    "name": "ipython",
    "version": 3
   },
   "file_extension": ".py",
   "mimetype": "text/x-python",
   "name": "python",
   "nbconvert_exporter": "python",
   "pygments_lexer": "ipython3",
   "version": "3.11.5"
  }
 },
 "nbformat": 4,
 "nbformat_minor": 5
}
